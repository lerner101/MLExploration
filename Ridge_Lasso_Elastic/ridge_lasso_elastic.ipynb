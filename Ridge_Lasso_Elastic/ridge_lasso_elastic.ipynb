{
 "cells": [
  {
   "cell_type": "markdown",
   "id": "8087c1e6",
   "metadata": {},
   "source": [
    "# Ridge Regression"
   ]
  },
  {
   "cell_type": "code",
   "execution_count": null,
   "id": "331d85a6",
   "metadata": {},
   "outputs": [],
   "source": [
    "#AKA L2 regularization: reduce overfitting\n",
    "\n",
    "#mean sum of squared (Normal equation) + [lambda sum(slope)^2] -> hyper parameter in simple linear regression -> theta^2\n",
    "#makes sure the best fit line doesn't pass through every point\n",
    "\n",
    "#Relationship between lambda and slope^2\n",
    "\n",
    "#   -> when lambda == 0: we are at global minima\n",
    "#   -> No matter how high lambda is, global minima on X will never be zero = hyperparameter\n",
    "#   -> as lambda increases, slope decreases (graph) -> but slope is never zero "
   ]
  },
  {
   "cell_type": "markdown",
   "id": "1dc9cdbc",
   "metadata": {},
   "source": [
    "# Lasso Regression"
   ]
  },
  {
   "cell_type": "code",
   "execution_count": null,
   "id": "797b2db3",
   "metadata": {},
   "outputs": [],
   "source": [
    "#AKA L1 Regularization -> feature selection\n",
    "\n",
    "#Cost function + lambda [sum(abs(slope))]"
   ]
  },
  {
   "cell_type": "markdown",
   "id": "7d461c44",
   "metadata": {},
   "source": [
    "# Cross Validation"
   ]
  },
  {
   "cell_type": "code",
   "execution_count": null,
   "id": "494af804",
   "metadata": {},
   "outputs": [],
   "source": [
    "#USED FOR HYPERPARAMTER TUNING\n",
    "\n",
    "#  1. Leave one out CV (one record) --> leads to overfitting | A lot of training with small validation | \n",
    "#  2. Leave P out CV (p records)    --> very expensive | train is n - p sections\n",
    "#  3. K fold validation             --> k = 5, n = 500 | test size = 500/5 = 100 records -> cons: if all classification of \"1's\" are in one part of the K\n",
    "#  4. Stratify K Fold CV            --> makes sure number of outputs is distributed properly. Fixes the main con of K fold. Each K has same proportion of classification\n",
    "#  Time series CV                   "
   ]
  }
 ],
 "metadata": {
  "kernelspec": {
   "display_name": "Python 3",
   "language": "python",
   "name": "python3"
  },
  "language_info": {
   "codemirror_mode": {
    "name": "ipython",
    "version": 3
   },
   "file_extension": ".py",
   "mimetype": "text/x-python",
   "name": "python",
   "nbconvert_exporter": "python",
   "pygments_lexer": "ipython3",
   "version": "3.9.12"
  }
 },
 "nbformat": 4,
 "nbformat_minor": 5
}
